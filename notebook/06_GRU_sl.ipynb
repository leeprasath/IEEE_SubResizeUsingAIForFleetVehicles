{
 "cells": [
  {
   "cell_type": "markdown",
   "id": "e8641c94",
   "metadata": {},
   "source": [
    "**Goal**:Use the GRU model to predict the next GPS position or cluster for a vehicle based on its historical trajectory. This prediction will help dynamically resize subnets based on predicted movement patterns."
   ]
  },
  {
   "cell_type": "markdown",
   "id": "8abeed8c",
   "metadata": {},
   "source": [
    "Step 1: Prepare the Data"
   ]
  },
  {
   "cell_type": "code",
   "execution_count": null,
   "id": "c7f25ab0",
   "metadata": {},
   "outputs": [],
   "source": [
    "import pandas as pd\n",
    "\n",
    "# Load the saved GMM output\n",
    "df_clean = pd.read_csv('D:/Research/Papers/repo/IEEE_SubResizeUsingAIForFleetVehicles/Output/Hierarchical_clustering_output_20250622_0138.csv')\n",
    "df_clean['timestamp'] = pd.to_datetime(df_clean['timestamp'])"
   ]
  },
  {
   "cell_type": "markdown",
   "id": "c84f1605",
   "metadata": {},
   "source": [
    "Step2: Sort by taxi and timestamp"
   ]
  },
  {
   "cell_type": "code",
   "execution_count": null,
   "id": "f4ff5e47",
   "metadata": {},
   "outputs": [],
   "source": [
    "df_clean.sort_values(by=['taxiid', 'timestamp'], inplace=True)"
   ]
  },
  {
   "cell_type": "markdown",
   "id": "7de9f100",
   "metadata": {},
   "source": [
    "Step3: Normalize longitude & latitude if needed"
   ]
  },
  {
   "cell_type": "code",
   "execution_count": null,
   "id": "60dddede",
   "metadata": {},
   "outputs": [],
   "source": [
    "def create_sequences(data, lookback=10):\n",
    "    sequences = []\n",
    "    for taxi_id in data['taxiid'].unique():\n",
    "        taxi_data = data[data['taxiid'] == taxi_id]\n",
    "        coords = taxi_data[['latitude_scaled', 'longitude_scaled']].values\n",
    "        for i in range(len(coords) - lookback):\n",
    "            seq = coords[i:i+lookback]\n",
    "            label = coords[i+lookback]\n",
    "            sequences.append((seq, label))\n",
    "    return sequences\n",
    "\n",
    "sequences = create_sequences(df, lookback=10)\n",
    "\n",
    "# Split into inputs (X) and targets (y)\n",
    "X, y = zip(*sequences)\n",
    "X = np.array(X)\n",
    "y = np.array(y)\n",
    "\n",
    "print(f\"Input shape: {X.shape}, Target shape: {y.shape}\")\n"
   ]
  }
 ],
 "metadata": {
  "language_info": {
   "name": "python"
  }
 },
 "nbformat": 4,
 "nbformat_minor": 5
}
