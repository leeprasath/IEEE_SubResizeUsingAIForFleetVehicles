{
 "cells": [
  {
   "cell_type": "markdown",
   "id": "8ec803a1",
   "metadata": {},
   "source": [
    "### DBSCAN explores complete dataset with ep=0.2 (the neighbour taxi radius is set to 0.2 units). Due to RAM overflow, the dataset sample is reduced to 50000 and eps reduced to 0.008 units.\n",
    "### Resultant output with the number of cluster is plotted in the map and scatter plot."
   ]
  },
  {
   "cell_type": "code",
   "execution_count": 1,
   "id": "06bbc7e6",
   "metadata": {},
   "outputs": [
    {
     "name": "stdout",
     "output_type": "stream",
     "text": [
      "Requirement already satisfied: scikit-learn in c:\\legacyapp\\python\\python311\\lib\\site-packages (1.7.0)\n",
      "Requirement already satisfied: numpy>=1.22.0 in c:\\legacyapp\\python\\python311\\lib\\site-packages (from scikit-learn) (2.3.0)\n",
      "Requirement already satisfied: scipy>=1.8.0 in c:\\legacyapp\\python\\python311\\lib\\site-packages (from scikit-learn) (1.15.3)\n",
      "Requirement already satisfied: joblib>=1.2.0 in c:\\legacyapp\\python\\python311\\lib\\site-packages (from scikit-learn) (1.5.1)\n",
      "Requirement already satisfied: threadpoolctl>=3.1.0 in c:\\legacyapp\\python\\python311\\lib\\site-packages (from scikit-learn) (3.6.0)\n"
     ]
    },
    {
     "name": "stderr",
     "output_type": "stream",
     "text": [
      "\n",
      "[notice] A new release of pip is available: 24.0 -> 25.1.1\n",
      "[notice] To update, run: python.exe -m pip install --upgrade pip\n"
     ]
    }
   ],
   "source": [
    "!pip install scikit-learn"
   ]
  },
  {
   "cell_type": "code",
   "execution_count": 2,
   "id": "3ca705d5",
   "metadata": {},
   "outputs": [
    {
     "name": "stdout",
     "output_type": "stream",
     "text": [
      "1.7.0\n"
     ]
    }
   ],
   "source": [
    "from sklearn.cluster import DBSCAN\n",
    "from sklearn.preprocessing import StandardScaler\n",
    "import numpy as np\n",
    "from sklearn.cluster import DBSCAN\n",
    "from sklearn.preprocessing import StandardScaler\n",
    "import sklearn\n",
    "print(sklearn.__version__)\n",
    "import pandas as pd"
   ]
  },
  {
   "cell_type": "markdown",
   "id": "baf82bc7",
   "metadata": {},
   "source": [
    "Load Data"
   ]
  },
  {
   "cell_type": "code",
   "execution_count": 3,
   "id": "3d85a778",
   "metadata": {},
   "outputs": [
    {
     "data": {
      "text/html": [
       "<div>\n",
       "<style scoped>\n",
       "    .dataframe tbody tr th:only-of-type {\n",
       "        vertical-align: middle;\n",
       "    }\n",
       "\n",
       "    .dataframe tbody tr th {\n",
       "        vertical-align: top;\n",
       "    }\n",
       "\n",
       "    .dataframe thead th {\n",
       "        text-align: right;\n",
       "    }\n",
       "</style>\n",
       "<table border=\"1\" class=\"dataframe\">\n",
       "  <thead>\n",
       "    <tr style=\"text-align: right;\">\n",
       "      <th></th>\n",
       "      <th>taxiid</th>\n",
       "      <th>timestamp</th>\n",
       "      <th>longitude</th>\n",
       "      <th>latitude</th>\n",
       "      <th>ts_num</th>\n",
       "    </tr>\n",
       "  </thead>\n",
       "  <tbody>\n",
       "    <tr>\n",
       "      <th>0</th>\n",
       "      <td>3305</td>\n",
       "      <td>2008-02-02 13:34:25</td>\n",
       "      <td>116.46689</td>\n",
       "      <td>39.99742</td>\n",
       "      <td>1201959265</td>\n",
       "    </tr>\n",
       "    <tr>\n",
       "      <th>1</th>\n",
       "      <td>3305</td>\n",
       "      <td>2008-02-02 13:39:23</td>\n",
       "      <td>116.46693</td>\n",
       "      <td>39.99744</td>\n",
       "      <td>1201959563</td>\n",
       "    </tr>\n",
       "    <tr>\n",
       "      <th>2</th>\n",
       "      <td>3305</td>\n",
       "      <td>2008-02-02 13:39:26</td>\n",
       "      <td>116.46693</td>\n",
       "      <td>39.99744</td>\n",
       "      <td>1201959566</td>\n",
       "    </tr>\n",
       "  </tbody>\n",
       "</table>\n",
       "</div>"
      ],
      "text/plain": [
       "   taxiid            timestamp  longitude  latitude      ts_num\n",
       "0    3305  2008-02-02 13:34:25  116.46689  39.99742  1201959265\n",
       "1    3305  2008-02-02 13:39:23  116.46693  39.99744  1201959563\n",
       "2    3305  2008-02-02 13:39:26  116.46693  39.99744  1201959566"
      ]
     },
     "execution_count": 3,
     "metadata": {},
     "output_type": "execute_result"
    }
   ],
   "source": [
    "from sklearn.preprocessing import MinMaxScaler\n",
    "\n",
    "# Load data\n",
    "df_cleaned = pd.read_csv(\"D:/Research/Papers/repo/IEEE_SubResizeUsingAIForFleetVehicles/Output/cleaned_gps_dataset_20250621_1643.csv\")\n",
    "# Convert timestamp to numeric (e.g., seconds since epoch)\n",
    "\n",
    "df_cleaned['ts_num'] = pd.to_datetime(df_cleaned['timestamp']).astype(np.int64) // 10**9\n",
    "df_cleaned.head(3)"
   ]
  },
  {
   "cell_type": "markdown",
   "id": "b975127f",
   "metadata": {},
   "source": [
    "**Not to Run this block-Memory error** <br>\n",
    "Run a spatio-temporal DBSCAN, where time is considered as a third dimension\n"
   ]
  },
  {
   "cell_type": "code",
   "execution_count": 4,
   "id": "3af3c4a3",
   "metadata": {},
   "outputs": [
    {
     "ename": "MemoryError",
     "evalue": "",
     "output_type": "error",
     "traceback": [
      "\u001b[1;31m---------------------------------------------------------------------------\u001b[0m",
      "\u001b[1;31mMemoryError\u001b[0m                               Traceback (most recent call last)",
      "Cell \u001b[1;32mIn[4], line 5\u001b[0m\n\u001b[0;32m      2\u001b[0m features \u001b[38;5;241m=\u001b[39m df_cleaned[[\u001b[38;5;124m'\u001b[39m\u001b[38;5;124mlatitude\u001b[39m\u001b[38;5;124m'\u001b[39m, \u001b[38;5;124m'\u001b[39m\u001b[38;5;124mlongitude\u001b[39m\u001b[38;5;124m'\u001b[39m, \u001b[38;5;124m'\u001b[39m\u001b[38;5;124mts_num\u001b[39m\u001b[38;5;124m'\u001b[39m]]\n\u001b[0;32m      3\u001b[0m features_scaled \u001b[38;5;241m=\u001b[39m MinMaxScaler()\u001b[38;5;241m.\u001b[39mfit_transform(features)\n\u001b[1;32m----> 5\u001b[0m db \u001b[38;5;241m=\u001b[39m \u001b[43mDBSCAN\u001b[49m\u001b[43m(\u001b[49m\u001b[43meps\u001b[49m\u001b[38;5;241;43m=\u001b[39;49m\u001b[38;5;241;43m0.05\u001b[39;49m\u001b[43m,\u001b[49m\u001b[43m \u001b[49m\u001b[43mmin_samples\u001b[49m\u001b[38;5;241;43m=\u001b[39;49m\u001b[38;5;241;43m10\u001b[39;49m\u001b[43m)\u001b[49m\u001b[38;5;241;43m.\u001b[39;49m\u001b[43mfit\u001b[49m\u001b[43m(\u001b[49m\u001b[43mfeatures_scaled\u001b[49m\u001b[43m)\u001b[49m\n\u001b[0;32m      6\u001b[0m df_cleaned[\u001b[38;5;124m'\u001b[39m\u001b[38;5;124mcluster\u001b[39m\u001b[38;5;124m'\u001b[39m] \u001b[38;5;241m=\u001b[39m db\u001b[38;5;241m.\u001b[39mlabels_\n\u001b[0;32m      7\u001b[0m df_cleaned\u001b[38;5;241m.\u001b[39mhead(\u001b[38;5;241m3\u001b[39m)\n",
      "File \u001b[1;32mc:\\LegacyApp\\Python\\Python311\\Lib\\site-packages\\sklearn\\base.py:1363\u001b[0m, in \u001b[0;36m_fit_context.<locals>.decorator.<locals>.wrapper\u001b[1;34m(estimator, *args, **kwargs)\u001b[0m\n\u001b[0;32m   1356\u001b[0m     estimator\u001b[38;5;241m.\u001b[39m_validate_params()\n\u001b[0;32m   1358\u001b[0m \u001b[38;5;28;01mwith\u001b[39;00m config_context(\n\u001b[0;32m   1359\u001b[0m     skip_parameter_validation\u001b[38;5;241m=\u001b[39m(\n\u001b[0;32m   1360\u001b[0m         prefer_skip_nested_validation \u001b[38;5;129;01mor\u001b[39;00m global_skip_validation\n\u001b[0;32m   1361\u001b[0m     )\n\u001b[0;32m   1362\u001b[0m ):\n\u001b[1;32m-> 1363\u001b[0m     \u001b[38;5;28;01mreturn\u001b[39;00m \u001b[43mfit_method\u001b[49m\u001b[43m(\u001b[49m\u001b[43mestimator\u001b[49m\u001b[43m,\u001b[49m\u001b[43m \u001b[49m\u001b[38;5;241;43m*\u001b[39;49m\u001b[43margs\u001b[49m\u001b[43m,\u001b[49m\u001b[43m \u001b[49m\u001b[38;5;241;43m*\u001b[39;49m\u001b[38;5;241;43m*\u001b[39;49m\u001b[43mkwargs\u001b[49m\u001b[43m)\u001b[49m\n",
      "File \u001b[1;32mc:\\LegacyApp\\Python\\Python311\\Lib\\site-packages\\sklearn\\cluster\\_dbscan.py:421\u001b[0m, in \u001b[0;36mDBSCAN.fit\u001b[1;34m(self, X, y, sample_weight)\u001b[0m\n\u001b[0;32m    419\u001b[0m neighbors_model\u001b[38;5;241m.\u001b[39mfit(X)\n\u001b[0;32m    420\u001b[0m \u001b[38;5;66;03m# This has worst case O(n^2) memory complexity\u001b[39;00m\n\u001b[1;32m--> 421\u001b[0m neighborhoods \u001b[38;5;241m=\u001b[39m \u001b[43mneighbors_model\u001b[49m\u001b[38;5;241;43m.\u001b[39;49m\u001b[43mradius_neighbors\u001b[49m\u001b[43m(\u001b[49m\u001b[43mX\u001b[49m\u001b[43m,\u001b[49m\u001b[43m \u001b[49m\u001b[43mreturn_distance\u001b[49m\u001b[38;5;241;43m=\u001b[39;49m\u001b[38;5;28;43;01mFalse\u001b[39;49;00m\u001b[43m)\u001b[49m\n\u001b[0;32m    423\u001b[0m \u001b[38;5;28;01mif\u001b[39;00m sample_weight \u001b[38;5;129;01mis\u001b[39;00m \u001b[38;5;28;01mNone\u001b[39;00m:\n\u001b[0;32m    424\u001b[0m     n_neighbors \u001b[38;5;241m=\u001b[39m np\u001b[38;5;241m.\u001b[39marray([\u001b[38;5;28mlen\u001b[39m(neighbors) \u001b[38;5;28;01mfor\u001b[39;00m neighbors \u001b[38;5;129;01min\u001b[39;00m neighborhoods])\n",
      "File \u001b[1;32mc:\\LegacyApp\\Python\\Python311\\Lib\\site-packages\\sklearn\\neighbors\\_base.py:1277\u001b[0m, in \u001b[0;36mRadiusNeighborsMixin.radius_neighbors\u001b[1;34m(self, X, radius, return_distance, sort_results)\u001b[0m\n\u001b[0;32m   1275\u001b[0m n_jobs \u001b[38;5;241m=\u001b[39m effective_n_jobs(\u001b[38;5;28mself\u001b[39m\u001b[38;5;241m.\u001b[39mn_jobs)\n\u001b[0;32m   1276\u001b[0m delayed_query \u001b[38;5;241m=\u001b[39m delayed(\u001b[38;5;28mself\u001b[39m\u001b[38;5;241m.\u001b[39m_tree\u001b[38;5;241m.\u001b[39mquery_radius)\n\u001b[1;32m-> 1277\u001b[0m chunked_results \u001b[38;5;241m=\u001b[39m \u001b[43mParallel\u001b[49m\u001b[43m(\u001b[49m\u001b[43mn_jobs\u001b[49m\u001b[43m,\u001b[49m\u001b[43m \u001b[49m\u001b[43mprefer\u001b[49m\u001b[38;5;241;43m=\u001b[39;49m\u001b[38;5;124;43m\"\u001b[39;49m\u001b[38;5;124;43mthreads\u001b[39;49m\u001b[38;5;124;43m\"\u001b[39;49m\u001b[43m)\u001b[49m\u001b[43m(\u001b[49m\n\u001b[0;32m   1278\u001b[0m \u001b[43m    \u001b[49m\u001b[43mdelayed_query\u001b[49m\u001b[43m(\u001b[49m\u001b[43mX\u001b[49m\u001b[43m[\u001b[49m\u001b[43ms\u001b[49m\u001b[43m]\u001b[49m\u001b[43m,\u001b[49m\u001b[43m \u001b[49m\u001b[43mradius\u001b[49m\u001b[43m,\u001b[49m\u001b[43m \u001b[49m\u001b[43mreturn_distance\u001b[49m\u001b[43m,\u001b[49m\u001b[43m \u001b[49m\u001b[43msort_results\u001b[49m\u001b[38;5;241;43m=\u001b[39;49m\u001b[43msort_results\u001b[49m\u001b[43m)\u001b[49m\n\u001b[0;32m   1279\u001b[0m \u001b[43m    \u001b[49m\u001b[38;5;28;43;01mfor\u001b[39;49;00m\u001b[43m \u001b[49m\u001b[43ms\u001b[49m\u001b[43m \u001b[49m\u001b[38;5;129;43;01min\u001b[39;49;00m\u001b[43m \u001b[49m\u001b[43mgen_even_slices\u001b[49m\u001b[43m(\u001b[49m\u001b[43mX\u001b[49m\u001b[38;5;241;43m.\u001b[39;49m\u001b[43mshape\u001b[49m\u001b[43m[\u001b[49m\u001b[38;5;241;43m0\u001b[39;49m\u001b[43m]\u001b[49m\u001b[43m,\u001b[49m\u001b[43m \u001b[49m\u001b[43mn_jobs\u001b[49m\u001b[43m)\u001b[49m\n\u001b[0;32m   1280\u001b[0m \u001b[43m\u001b[49m\u001b[43m)\u001b[49m\n\u001b[0;32m   1281\u001b[0m \u001b[38;5;28;01mif\u001b[39;00m return_distance:\n\u001b[0;32m   1282\u001b[0m     neigh_ind, neigh_dist \u001b[38;5;241m=\u001b[39m \u001b[38;5;28mtuple\u001b[39m(\u001b[38;5;28mzip\u001b[39m(\u001b[38;5;241m*\u001b[39mchunked_results))\n",
      "File \u001b[1;32mc:\\LegacyApp\\Python\\Python311\\Lib\\site-packages\\sklearn\\utils\\parallel.py:82\u001b[0m, in \u001b[0;36mParallel.__call__\u001b[1;34m(self, iterable)\u001b[0m\n\u001b[0;32m     73\u001b[0m warning_filters \u001b[38;5;241m=\u001b[39m warnings\u001b[38;5;241m.\u001b[39mfilters\n\u001b[0;32m     74\u001b[0m iterable_with_config_and_warning_filters \u001b[38;5;241m=\u001b[39m (\n\u001b[0;32m     75\u001b[0m     (\n\u001b[0;32m     76\u001b[0m         _with_config_and_warning_filters(delayed_func, config, warning_filters),\n\u001b[1;32m   (...)\u001b[0m\n\u001b[0;32m     80\u001b[0m     \u001b[38;5;28;01mfor\u001b[39;00m delayed_func, args, kwargs \u001b[38;5;129;01min\u001b[39;00m iterable\n\u001b[0;32m     81\u001b[0m )\n\u001b[1;32m---> 82\u001b[0m \u001b[38;5;28;01mreturn\u001b[39;00m \u001b[38;5;28;43msuper\u001b[39;49m\u001b[43m(\u001b[49m\u001b[43m)\u001b[49m\u001b[38;5;241;43m.\u001b[39;49m\u001b[38;5;21;43m__call__\u001b[39;49m\u001b[43m(\u001b[49m\u001b[43miterable_with_config_and_warning_filters\u001b[49m\u001b[43m)\u001b[49m\n",
      "File \u001b[1;32mc:\\LegacyApp\\Python\\Python311\\Lib\\site-packages\\joblib\\parallel.py:1986\u001b[0m, in \u001b[0;36mParallel.__call__\u001b[1;34m(self, iterable)\u001b[0m\n\u001b[0;32m   1984\u001b[0m     output \u001b[38;5;241m=\u001b[39m \u001b[38;5;28mself\u001b[39m\u001b[38;5;241m.\u001b[39m_get_sequential_output(iterable)\n\u001b[0;32m   1985\u001b[0m     \u001b[38;5;28mnext\u001b[39m(output)\n\u001b[1;32m-> 1986\u001b[0m     \u001b[38;5;28;01mreturn\u001b[39;00m output \u001b[38;5;28;01mif\u001b[39;00m \u001b[38;5;28mself\u001b[39m\u001b[38;5;241m.\u001b[39mreturn_generator \u001b[38;5;28;01melse\u001b[39;00m \u001b[38;5;28;43mlist\u001b[39;49m\u001b[43m(\u001b[49m\u001b[43moutput\u001b[49m\u001b[43m)\u001b[49m\n\u001b[0;32m   1988\u001b[0m \u001b[38;5;66;03m# Let's create an ID that uniquely identifies the current call. If the\u001b[39;00m\n\u001b[0;32m   1989\u001b[0m \u001b[38;5;66;03m# call is interrupted early and that the same instance is immediately\u001b[39;00m\n\u001b[0;32m   1990\u001b[0m \u001b[38;5;66;03m# reused, this id will be used to prevent workers that were\u001b[39;00m\n\u001b[0;32m   1991\u001b[0m \u001b[38;5;66;03m# concurrently finalizing a task from the previous call to run the\u001b[39;00m\n\u001b[0;32m   1992\u001b[0m \u001b[38;5;66;03m# callback.\u001b[39;00m\n\u001b[0;32m   1993\u001b[0m \u001b[38;5;28;01mwith\u001b[39;00m \u001b[38;5;28mself\u001b[39m\u001b[38;5;241m.\u001b[39m_lock:\n",
      "File \u001b[1;32mc:\\LegacyApp\\Python\\Python311\\Lib\\site-packages\\joblib\\parallel.py:1914\u001b[0m, in \u001b[0;36mParallel._get_sequential_output\u001b[1;34m(self, iterable)\u001b[0m\n\u001b[0;32m   1912\u001b[0m \u001b[38;5;28mself\u001b[39m\u001b[38;5;241m.\u001b[39mn_dispatched_batches \u001b[38;5;241m+\u001b[39m\u001b[38;5;241m=\u001b[39m \u001b[38;5;241m1\u001b[39m\n\u001b[0;32m   1913\u001b[0m \u001b[38;5;28mself\u001b[39m\u001b[38;5;241m.\u001b[39mn_dispatched_tasks \u001b[38;5;241m+\u001b[39m\u001b[38;5;241m=\u001b[39m \u001b[38;5;241m1\u001b[39m\n\u001b[1;32m-> 1914\u001b[0m res \u001b[38;5;241m=\u001b[39m \u001b[43mfunc\u001b[49m\u001b[43m(\u001b[49m\u001b[38;5;241;43m*\u001b[39;49m\u001b[43margs\u001b[49m\u001b[43m,\u001b[49m\u001b[43m \u001b[49m\u001b[38;5;241;43m*\u001b[39;49m\u001b[38;5;241;43m*\u001b[39;49m\u001b[43mkwargs\u001b[49m\u001b[43m)\u001b[49m\n\u001b[0;32m   1915\u001b[0m \u001b[38;5;28mself\u001b[39m\u001b[38;5;241m.\u001b[39mn_completed_tasks \u001b[38;5;241m+\u001b[39m\u001b[38;5;241m=\u001b[39m \u001b[38;5;241m1\u001b[39m\n\u001b[0;32m   1916\u001b[0m \u001b[38;5;28mself\u001b[39m\u001b[38;5;241m.\u001b[39mprint_progress()\n",
      "File \u001b[1;32mc:\\LegacyApp\\Python\\Python311\\Lib\\site-packages\\sklearn\\utils\\parallel.py:147\u001b[0m, in \u001b[0;36m_FuncWrapper.__call__\u001b[1;34m(self, *args, **kwargs)\u001b[0m\n\u001b[0;32m    145\u001b[0m \u001b[38;5;28;01mwith\u001b[39;00m config_context(\u001b[38;5;241m*\u001b[39m\u001b[38;5;241m*\u001b[39mconfig), warnings\u001b[38;5;241m.\u001b[39mcatch_warnings():\n\u001b[0;32m    146\u001b[0m     warnings\u001b[38;5;241m.\u001b[39mfilters \u001b[38;5;241m=\u001b[39m warning_filters\n\u001b[1;32m--> 147\u001b[0m     \u001b[38;5;28;01mreturn\u001b[39;00m \u001b[38;5;28;43mself\u001b[39;49m\u001b[38;5;241;43m.\u001b[39;49m\u001b[43mfunction\u001b[49m\u001b[43m(\u001b[49m\u001b[38;5;241;43m*\u001b[39;49m\u001b[43margs\u001b[49m\u001b[43m,\u001b[49m\u001b[43m \u001b[49m\u001b[38;5;241;43m*\u001b[39;49m\u001b[38;5;241;43m*\u001b[39;49m\u001b[43mkwargs\u001b[49m\u001b[43m)\u001b[49m\n",
      "File \u001b[1;32msklearn/neighbors/_binary_tree.pxi:1431\u001b[0m, in \u001b[0;36msklearn.neighbors._kd_tree.BinaryTree64.query_radius\u001b[1;34m()\u001b[0m\n",
      "File \u001b[1;32msklearn/neighbors/_binary_tree.pxi:1384\u001b[0m, in \u001b[0;36msklearn.neighbors._kd_tree.BinaryTree64.query_radius\u001b[1;34m()\u001b[0m\n",
      "\u001b[1;31mMemoryError\u001b[0m: "
     ]
    }
   ],
   "source": [
    "# Combine lat, lon, and time into one feature space\n",
    "features = df_cleaned[['latitude', 'longitude', 'ts_num']]\n",
    "features_scaled = MinMaxScaler().fit_transform(features)\n",
    "\n",
    "db = DBSCAN(eps=0.05, min_samples=10).fit(features_scaled)\n",
    "df_cleaned['cluster'] = db.labels_\n",
    "df_cleaned.head(3)"
   ]
  },
  {
   "cell_type": "markdown",
   "id": "c5cf8f47",
   "metadata": {},
   "source": [
    "# Summary of DBSCAN exeuction\n",
    "1 DBSCAN has O(n²) complexity because it compares every point to every other.<br>\n",
    "2 You’re likely using millions of GPS records.<br>\n",
    "3 This causes it to exceed available RAM.<br>"
   ]
  },
  {
   "cell_type": "markdown",
   "id": "6d173719",
   "metadata": {},
   "source": [
    "# Reduce the sample size to avoid memory error"
   ]
  },
  {
   "cell_type": "code",
   "execution_count": 5,
   "id": "c5a313ab",
   "metadata": {},
   "outputs": [
    {
     "data": {
      "text/html": [
       "<div>\n",
       "<style scoped>\n",
       "    .dataframe tbody tr th:only-of-type {\n",
       "        vertical-align: middle;\n",
       "    }\n",
       "\n",
       "    .dataframe tbody tr th {\n",
       "        vertical-align: top;\n",
       "    }\n",
       "\n",
       "    .dataframe thead th {\n",
       "        text-align: right;\n",
       "    }\n",
       "</style>\n",
       "<table border=\"1\" class=\"dataframe\">\n",
       "  <thead>\n",
       "    <tr style=\"text-align: right;\">\n",
       "      <th></th>\n",
       "      <th>taxiid</th>\n",
       "      <th>timestamp</th>\n",
       "      <th>longitude</th>\n",
       "      <th>latitude</th>\n",
       "      <th>ts_num</th>\n",
       "      <th>cluster</th>\n",
       "    </tr>\n",
       "  </thead>\n",
       "  <tbody>\n",
       "    <tr>\n",
       "      <th>263135</th>\n",
       "      <td>3579</td>\n",
       "      <td>2008-02-03 08:53:57</td>\n",
       "      <td>116.31879</td>\n",
       "      <td>39.86693</td>\n",
       "      <td>1202028837</td>\n",
       "      <td>0</td>\n",
       "    </tr>\n",
       "    <tr>\n",
       "      <th>684230</th>\n",
       "      <td>7008</td>\n",
       "      <td>2008-02-05 05:35:45</td>\n",
       "      <td>116.36790</td>\n",
       "      <td>39.90612</td>\n",
       "      <td>1202189745</td>\n",
       "      <td>0</td>\n",
       "    </tr>\n",
       "    <tr>\n",
       "      <th>617347</th>\n",
       "      <td>1267</td>\n",
       "      <td>2008-02-03 14:46:31</td>\n",
       "      <td>116.31483</td>\n",
       "      <td>39.82958</td>\n",
       "      <td>1202049991</td>\n",
       "      <td>0</td>\n",
       "    </tr>\n",
       "  </tbody>\n",
       "</table>\n",
       "</div>"
      ],
      "text/plain": [
       "        taxiid            timestamp  longitude  latitude      ts_num  cluster\n",
       "263135    3579  2008-02-03 08:53:57  116.31879  39.86693  1202028837        0\n",
       "684230    7008  2008-02-05 05:35:45  116.36790  39.90612  1202189745        0\n",
       "617347    1267  2008-02-03 14:46:31  116.31483  39.82958  1202049991        0"
      ]
     },
     "execution_count": 5,
     "metadata": {},
     "output_type": "execute_result"
    }
   ],
   "source": [
    "# For exploration, try running DBSCAN on a smaller subset:\n",
    "df_sample = df_cleaned.sample(n=50000, random_state=42)  # adjust as needed\n",
    "features = df_sample[['latitude', 'longitude', 'ts_num']]\n",
    "features_scaled = MinMaxScaler().fit_transform(features)\n",
    "\n",
    "db = DBSCAN(eps=0.008, min_samples=10).fit(features_scaled)\n",
    "df_sample['cluster'] = db.labels_\n",
    "df_sample.head(3)"
   ]
  },
  {
   "cell_type": "markdown",
   "id": "212be53f",
   "metadata": {},
   "source": [
    "Visualize and analyze spatio-temporal clusters and outliers after applying DBSCAN on sample data<br>\n",
    "✅ Step 1: Check cluster label distribution. <br>\n",
    "-1 is an outlier"
   ]
  },
  {
   "cell_type": "code",
   "execution_count": 6,
   "id": "cb69765a",
   "metadata": {},
   "outputs": [
    {
     "name": "stdout",
     "output_type": "stream",
     "text": [
      "cluster\n",
      "-1      399\n",
      " 0    49525\n",
      " 1       20\n",
      " 2       12\n",
      " 3       11\n",
      " 4       10\n",
      " 5       13\n",
      " 6       10\n",
      "Name: count, dtype: int64\n",
      "Number of valid clusters: 7\n"
     ]
    }
   ],
   "source": [
    "# Count how many points in each cluster\n",
    "cluster_counts = df_sample['cluster'].value_counts().sort_index()\n",
    "print(cluster_counts)\n",
    "\n",
    "# # Exclude outlier label (-1)\n",
    "# valid_clusters = df_sample['cluster'].value_counts().sort_index()\n",
    "# valid_clusters = valid_clusters[valid_clusters.index != -1]\n",
    "\n",
    "# print(\"Valid Clusters (excluding outliers):\")\n",
    "# print(valid_clusters)\n",
    "#  Add is_outlier Column to df_sample\n",
    "df_sample['is_outlier'] = (df_sample['cluster'] == -1).astype(int)\n",
    "\n",
    "#Optional: Count only number of valid clusters\n",
    "num_valid_clusters = (df_sample['cluster'].nunique()) - (1 if -1 in df_sample['cluster'].unique() else 0)\n",
    "print(f\"Number of valid clusters: {num_valid_clusters}\")"
   ]
  },
  {
   "cell_type": "markdown",
   "id": "e43c3a46",
   "metadata": {},
   "source": [
    "✅ Inspect Small Clusters. To see what those 11 and 10-point clusters are,"
   ]
  },
  {
   "cell_type": "code",
   "execution_count": 7,
   "id": "e1e14e95",
   "metadata": {},
   "outputs": [
    {
     "data": {
      "text/html": [
       "<div>\n",
       "<style scoped>\n",
       "    .dataframe tbody tr th:only-of-type {\n",
       "        vertical-align: middle;\n",
       "    }\n",
       "\n",
       "    .dataframe tbody tr th {\n",
       "        vertical-align: top;\n",
       "    }\n",
       "\n",
       "    .dataframe thead th {\n",
       "        text-align: right;\n",
       "    }\n",
       "</style>\n",
       "<table border=\"1\" class=\"dataframe\">\n",
       "  <thead>\n",
       "    <tr style=\"text-align: right;\">\n",
       "      <th></th>\n",
       "      <th>taxiid</th>\n",
       "      <th>timestamp</th>\n",
       "      <th>longitude</th>\n",
       "      <th>latitude</th>\n",
       "      <th>ts_num</th>\n",
       "      <th>cluster</th>\n",
       "      <th>is_outlier</th>\n",
       "    </tr>\n",
       "  </thead>\n",
       "  <tbody>\n",
       "    <tr>\n",
       "      <th>145494</th>\n",
       "      <td>8708</td>\n",
       "      <td>2008-02-03 12:41:41</td>\n",
       "      <td>116.55208</td>\n",
       "      <td>40.37510</td>\n",
       "      <td>1202042501</td>\n",
       "      <td>3</td>\n",
       "      <td>0</td>\n",
       "    </tr>\n",
       "    <tr>\n",
       "      <th>145513</th>\n",
       "      <td>8708</td>\n",
       "      <td>2008-02-03 12:47:00</td>\n",
       "      <td>116.54140</td>\n",
       "      <td>40.41793</td>\n",
       "      <td>1202042820</td>\n",
       "      <td>3</td>\n",
       "      <td>0</td>\n",
       "    </tr>\n",
       "    <tr>\n",
       "      <th>145505</th>\n",
       "      <td>8708</td>\n",
       "      <td>2008-02-03 12:45:24</td>\n",
       "      <td>116.54707</td>\n",
       "      <td>40.40850</td>\n",
       "      <td>1202042724</td>\n",
       "      <td>3</td>\n",
       "      <td>0</td>\n",
       "    </tr>\n",
       "    <tr>\n",
       "      <th>596782</th>\n",
       "      <td>9821</td>\n",
       "      <td>2008-02-07 14:30:26</td>\n",
       "      <td>115.97615</td>\n",
       "      <td>40.46304</td>\n",
       "      <td>1202394626</td>\n",
       "      <td>4</td>\n",
       "      <td>0</td>\n",
       "    </tr>\n",
       "    <tr>\n",
       "      <th>596794</th>\n",
       "      <td>9821</td>\n",
       "      <td>2008-02-07 15:38:52</td>\n",
       "      <td>115.98029</td>\n",
       "      <td>40.46714</td>\n",
       "      <td>1202398732</td>\n",
       "      <td>4</td>\n",
       "      <td>0</td>\n",
       "    </tr>\n",
       "    <tr>\n",
       "      <th>145509</th>\n",
       "      <td>8708</td>\n",
       "      <td>2008-02-03 12:46:06</td>\n",
       "      <td>116.54253</td>\n",
       "      <td>40.41270</td>\n",
       "      <td>1202042766</td>\n",
       "      <td>3</td>\n",
       "      <td>0</td>\n",
       "    </tr>\n",
       "    <tr>\n",
       "      <th>596759</th>\n",
       "      <td>9821</td>\n",
       "      <td>2008-02-07 13:48:25</td>\n",
       "      <td>115.95871</td>\n",
       "      <td>40.46046</td>\n",
       "      <td>1202392105</td>\n",
       "      <td>4</td>\n",
       "      <td>0</td>\n",
       "    </tr>\n",
       "    <tr>\n",
       "      <th>596785</th>\n",
       "      <td>9821</td>\n",
       "      <td>2008-02-07 14:30:26</td>\n",
       "      <td>115.97615</td>\n",
       "      <td>40.46304</td>\n",
       "      <td>1202394626</td>\n",
       "      <td>4</td>\n",
       "      <td>0</td>\n",
       "    </tr>\n",
       "    <tr>\n",
       "      <th>72357</th>\n",
       "      <td>9357</td>\n",
       "      <td>2008-02-07 14:45:06</td>\n",
       "      <td>116.03124</td>\n",
       "      <td>40.33418</td>\n",
       "      <td>1202395506</td>\n",
       "      <td>4</td>\n",
       "      <td>0</td>\n",
       "    </tr>\n",
       "    <tr>\n",
       "      <th>145475</th>\n",
       "      <td>8708</td>\n",
       "      <td>2008-02-03 12:34:30</td>\n",
       "      <td>116.60332</td>\n",
       "      <td>40.35073</td>\n",
       "      <td>1202042070</td>\n",
       "      <td>3</td>\n",
       "      <td>0</td>\n",
       "    </tr>\n",
       "  </tbody>\n",
       "</table>\n",
       "</div>"
      ],
      "text/plain": [
       "        taxiid            timestamp  longitude  latitude      ts_num  cluster  \\\n",
       "145494    8708  2008-02-03 12:41:41  116.55208  40.37510  1202042501        3   \n",
       "145513    8708  2008-02-03 12:47:00  116.54140  40.41793  1202042820        3   \n",
       "145505    8708  2008-02-03 12:45:24  116.54707  40.40850  1202042724        3   \n",
       "596782    9821  2008-02-07 14:30:26  115.97615  40.46304  1202394626        4   \n",
       "596794    9821  2008-02-07 15:38:52  115.98029  40.46714  1202398732        4   \n",
       "145509    8708  2008-02-03 12:46:06  116.54253  40.41270  1202042766        3   \n",
       "596759    9821  2008-02-07 13:48:25  115.95871  40.46046  1202392105        4   \n",
       "596785    9821  2008-02-07 14:30:26  115.97615  40.46304  1202394626        4   \n",
       "72357     9357  2008-02-07 14:45:06  116.03124  40.33418  1202395506        4   \n",
       "145475    8708  2008-02-03 12:34:30  116.60332  40.35073  1202042070        3   \n",
       "\n",
       "        is_outlier  \n",
       "145494           0  \n",
       "145513           0  \n",
       "145505           0  \n",
       "596782           0  \n",
       "596794           0  \n",
       "145509           0  \n",
       "596759           0  \n",
       "596785           0  \n",
       "72357            0  \n",
       "145475           0  "
      ]
     },
     "execution_count": 7,
     "metadata": {},
     "output_type": "execute_result"
    }
   ],
   "source": [
    "small_clusters = df_sample[df_sample['cluster'].isin([3, 4])]\n",
    "small_clusters.head(10)\n",
    "# print(small_clusters[['taxiid', 'timestamp', 'latitude', 'longitude']])"
   ]
  },
  {
   "cell_type": "markdown",
   "id": "efa79c87",
   "metadata": {},
   "source": [
    "visualize using plot"
   ]
  },
  {
   "cell_type": "code",
   "execution_count": 8,
   "id": "a16f750e",
   "metadata": {},
   "outputs": [
    {
     "name": "stderr",
     "output_type": "stream",
     "text": [
      "C:\\Users\\uif74417\\AppData\\Local\\Temp\\ipykernel_33056\\2331225837.py:9: MatplotlibDeprecationWarning: The get_cmap function was deprecated in Matplotlib 3.7 and will be removed in 3.11. Use ``matplotlib.colormaps[name]`` or ``matplotlib.colormaps.get_cmap()`` or ``pyplot.get_cmap()`` instead.\n",
      "  colors = cm.get_cmap('tab20', num_clusters)  # use tab20 colormap\n"
     ]
    },
    {
     "data": {
      "image/png": "[encoded data removed]",
      "text/plain": [
       "<Figure size 1000x600 with 1 Axes>"
      ]
     },
     "metadata": {},
     "output_type": "display_data"
    }
   ],
   "source": [
    "import matplotlib.pyplot as plt\n",
    "import matplotlib.cm as cm\n",
    "import numpy as np\n",
    "\n",
    "plt.figure(figsize=(10, 6))\n",
    "\n",
    "# Generate unique colors from a colormap\n",
    "num_clusters = df_sample['cluster'].nunique() - (1 if -1 in df_sample['cluster'].unique() else 0)\n",
    "colors = cm.get_cmap('tab20', num_clusters)  # use tab20 colormap\n",
    "\n",
    "# Plot valid clusters with unique colors\n",
    "cluster_labels = sorted(df_sample['cluster'].unique())\n",
    "for i, label in enumerate(cluster_labels):\n",
    "    if label == -1:\n",
    "        continue\n",
    "    cluster_points = df_sample[df_sample['cluster'] == label]\n",
    "    plt.scatter(\n",
    "        cluster_points['longitude'],\n",
    "        cluster_points['latitude'],\n",
    "        s=5,\n",
    "        color=colors(i),\n",
    "        label=f\"Cluster {label}\"\n",
    "    )\n",
    "\n",
    "# Plot outliers with dark outlined hollow dots\n",
    "outliers = df_sample[df_sample['cluster'] == -1]\n",
    "plt.scatter(\n",
    "    outliers['longitude'],\n",
    "    outliers['latitude'],\n",
    "    s=20,\n",
    "    facecolors='none',\n",
    "    edgecolors='black',\n",
    "    linewidths=0.6,\n",
    "    label='Outliers (black circled)'\n",
    ")\n",
    "\n",
    "plt.legend(markerscale=2, bbox_to_anchor=(1.05, 1), loc='upper left')\n",
    "plt.title(\"Cluster Comparison with Unique Colors and Circled Outliers\")\n",
    "plt.xlabel(\"Longitude\")\n",
    "plt.ylabel(\"Latitude\")\n",
    "plt.grid(True)\n",
    "plt.tight_layout()\n",
    "plt.show()"
   ]
  },
  {
   "cell_type": "markdown",
   "id": "9eb21a94",
   "metadata": {},
   "source": [
    "**Finally Save Output**"
   ]
  },
  {
   "cell_type": "code",
   "execution_count": 9,
   "id": "bfd96004",
   "metadata": {},
   "outputs": [],
   "source": [
    "from datetime import datetime\n",
    "\n",
    "timestamp = datetime.now().strftime(\"%Y%m%d_%H%M\")\n",
    "filename = f\"D:/Research/Papers/repo/IEEE_SubResizeUsingAIForFleetVehicles/Output/dbscan_cluster_outliers_{timestamp}.csv\"\n",
    "df_sample.to_csv(filename, index=False)"
   ]
  }
 ],
 "metadata": {
  "kernelspec": {
   "display_name": "Python 3",
   "language": "python",
   "name": "python3"
  },
  "language_info": {
   "codemirror_mode": {
    "name": "ipython",
    "version": 3
   },
   "file_extension": ".py",
   "mimetype": "text/x-python",
   "name": "python",
   "nbconvert_exporter": "python",
   "pygments_lexer": "ipython3",
   "version": "3.11.2"
  }
 },
 "nbformat": 4,
 "nbformat_minor": 5
}
