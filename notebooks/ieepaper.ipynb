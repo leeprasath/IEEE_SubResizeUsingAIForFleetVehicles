{
 "cells": [
  {
   "cell_type": "markdown",
   "id": "931aa847",
   "metadata": {},
   "source": [
    "combinedataset and produce 1 common .csv file"
   ]
  },
  {
   "cell_type": "code",
   "execution_count": 1,
   "id": "5ec1ea2d",
   "metadata": {},
   "outputs": [],
   "source": [
    "import pandas as pd\n",
    "import os"
   ]
  },
  {
   "cell_type": "code",
   "execution_count": 14,
   "id": "1398dc22",
   "metadata": {},
   "outputs": [],
   "source": [
    "# Folder where all text files are stored\n",
    "folder_path = '/workspaces/pythonforDS/data/taxi_log_2008_by_id/'"
   ]
  },
  {
   "cell_type": "code",
   "execution_count": 15,
   "id": "2db34618",
   "metadata": {},
   "outputs": [],
   "source": [
    "# Collect data for taxis 1 to 100\n",
    "taxi_ids = list(range(1, 101))\n",
    "all_data = []"
   ]
  },
  {
   "cell_type": "code",
   "execution_count": 30,
   "id": "9b3a7291",
   "metadata": {},
   "outputs": [
    {
     "data": {
      "text/plain": [
       "291164"
      ]
     },
     "execution_count": 30,
     "metadata": {},
     "output_type": "execute_result"
    }
   ],
   "source": [
    "for taxi_id in taxi_ids:\n",
    "    file_path = os.path.join(folder_path, f\"{taxi_id}.txt\")\n",
    "    # print(file_path)\n",
    "    if os.path.exists(file_path):\n",
    "        # print(True)\n",
    "        with open(file_path, 'r') as file:\n",
    "            for line in file:\n",
    "                # print(line)\n",
    "                parts = line.strip().split(',')\n",
    "                # print(parts)\n",
    "                if len(parts) == 4:\n",
    "                    dummy,timestamp, lon, lat = parts\n",
    "                    # print(dummy,',',timestamp,',',lon,',',lat)\n",
    "                    all_data.append([taxi_id, timestamp, float(lon), float(lat)])\n",
    "\n",
    "len(all_data)"
   ]
  },
  {
   "cell_type": "code",
   "execution_count": 31,
   "id": "7e719d1a",
   "metadata": {},
   "outputs": [],
   "source": [
    "# Convert to DataFrame\n",
    "df = pd.DataFrame(all_data, columns=['TaxiID', 'Timestamp', 'Longitude', 'Latitude'])"
   ]
  },
  {
   "cell_type": "code",
   "execution_count": null,
   "id": "5f83ed9b",
   "metadata": {},
   "outputs": [
    {
     "name": "stdout",
     "output_type": "stream",
     "text": [
      "✅ Combined data for 100 taxis saved as filtered_100_taxis.csv\n"
     ]
    },
    {
     "name": "stderr",
     "output_type": "stream",
     "text": [
      "Bad pipe message: %s [b'0.9,image/avif,image/webp,image/apng,*/*;q=0.8,application/signed-exchange;v=b3;q=0.7\\r\\nHost: localhost:35957\\r\\nUs', b'-Agent: Mozilla/5.0 (Windows NT 10.0; Win64; x64) AppleWebKit/537.36 (KHTML, like Gecko) Chrome/137.']\n",
      "Bad pipe message: %s [b'0.0 Safari/537.36 Edg/137.0.0.0\\r\\nAccept-Encodin']\n",
      "Bad pipe message: %s [b' gzip, deflate, br, zstd\\r\\nAccept-Language: en-US,en;q=0.9\\r\\nCache-Control: max-age=0\\r\\nReferer: https://']\n",
      "Bad pipe message: %s [b'thub.com/\\r\\nX-Request-ID: 9478ce87ae20d7df837a8a40f2be6ac4\\r\\nX-Real-IP: 122.161.28.82\\r\\nX-Forwarded-Port:', b'43\\r\\nX-Forwarded-Scheme: https\\r\\n']\n",
      "Bad pipe message: %s [b'Original-URI: /\\r\\nX-Scheme: https\\r\\nsec-fetch-site: cross-site\\r\\nsec-fetch-mode: navigate\\r', b'ec-fetch-', b'st: document\\r\\nsec-ch-ua: \"Microsoft Edge\";v=\"137\", \"Chromium\";v=\"137\", \"Not/A)Brand\";v=\"24\"\\r\\nsec-ch', b'a-mobile: ?0\\r\\nsec-ch-ua-platform: \"Windows\"\\r', b'riority: ']\n",
      "Bad pipe message: %s [b'0.9,image/avif,image/webp,image/apng,*/*;q=0.8,application/signed-exchange;v=b3;q=0.7\\r\\nHost: localhost:35957\\r\\nUs', b'-Agent: Mozilla/5.0 (Windows NT 10.0; Win64; x64) AppleWebKit/537.36 (KHTML, like Gecko) Chrome/137.']\n",
      "Bad pipe message: %s [b'0.0 Safari/537.36 Edg/137.0.0.0\\r\\nAccept-Encodin']\n",
      "Bad pipe message: %s [b' gzip, deflate, br, zstd\\r\\nAccept-Language: en-US,en;q=0.9\\r\\nX-Request-ID: f3026bb0d0abf6a95c58d35e64bef']\n",
      "Bad pipe message: %s [b'1\\r\\nX-Real-IP: 122.161.28.82\\r\\nX-Forwarded-Port: 443\\r\\nX-Forwarded-Scheme: https\\r\\nX-Original-URI: /', b'X-Scheme: ht']\n",
      "Bad pipe message: %s [b's\\r\\nsec-ch-ua: \"Microsoft Edge\";v=\"137\", \"Chromium\";v=\"137\", \"Not/A)Brand\";v=\"24\"\\r\\nsec-ch-ua-mobile: ?0\\r\\nsec-ch-ua-p']\n",
      "Bad pipe message: %s [b'tform: \"Windows\"\\r\\nsec-fetch-site: none\\r\\nsec-fetch-mode: navigate\\r\\nsec-fetch-user: ?1\\r\\nsec-fetch-dest: docum', b't\\r\\npriority: u=0, i\\r\\nX-Original-Proto: https\\r\\nX-Forwarded-Proto: https\\r\\nX-Forwarded-Host: silver-cou']\n",
      "Bad pipe message: %s [b'0.9,image/avif,image/webp,image/apng,*/*;q=0.8,application/signed-exchange;v=b3;q=0.7\\r\\nHost: localhost:35957\\r\\nUs', b'-Agent: Mozilla/5.0 (Windows NT 10.0; Win64; x64) AppleWebKit/537.36 (KHTML, like Gecko) Chrome/137.']\n",
      "Bad pipe message: %s [b'0.0 Safari/537.36 Edg/137.0.0.0\\r\\nAccept-Encodin']\n",
      "Bad pipe message: %s [b' gzip, deflate, br, zstd\\r\\nAccept-Language: en-US,en;q=0.9\\r\\nReferer: https://silver-couscous-4w7ggq4976']\n",
      "Bad pipe message: %s [b'qxwr.github.dev/\\r\\nX-Request-ID: feeebc2ef757712e0b8640b42ca44570\\r\\nX-Real-IP: 122.161.28.82\\r\\nX-Forwarded-Port: 443\\r\\nX-Fo']\n",
      "Bad pipe message: %s [b'arded-Scheme: https\\r\\nX-Original-URI: /\\r\\nX-Scheme: https\\r\\nsec-ch-ua: \"Microsoft Edge\";v=\"137\", \"Chromium\";v=\"137\",', b'Not/A)Brand\";v=\"24\"\\r\\nsec-ch-ua-']\n",
      "Bad pipe message: %s [b'bile: ?0\\r\\nsec-ch-ua-platform: \"Windows\"\\r\\nsec-fetch-site: same-site\\r\\nsec-fetch-mode: navigate\\r\\nsec-fetch-user', b'?1\\r\\nsec-fetch-dest: document\\r\\npriority: u=0, i\\r\\nX-Origina']\n",
      "Bad pipe message: %s [b'Proto: https\\r\\nX-Forwarded-Proto: https\\r\\nX-Forwarded-Host: silver-couscous-4w7ggq4976xhqxwr-35957.app.github', b'ev\\r\\nX-Forwarded-For: 122.161.28.82\\r\\nProxy-Con']\n"
     ]
    }
   ],
   "source": [
    "# Save to CSV\n",
    "df.to_csv(\"filtered_100_taxis.csv\", index=False)\n",
    "\n",
    "print(\"✅ Combined data for 100 taxis saved as filtered_100_taxis.csv\")"
   ]
  },
  {
   "cell_type": "markdown",
   "id": "fb3fbe94",
   "metadata": {},
   "source": [
    "EDT"
   ]
  },
  {
   "cell_type": "code",
   "execution_count": 2,
   "id": "15c02ea3",
   "metadata": {},
   "outputs": [
    {
     "name": "stdout",
     "output_type": "stream",
     "text": [
      "<class 'pandas.core.frame.DataFrame'>\n",
      "RangeIndex: 291164 entries, 0 to 291163\n",
      "Data columns (total 4 columns):\n",
      " #   Column     Non-Null Count   Dtype  \n",
      "---  ------     --------------   -----  \n",
      " 0   TaxiID     291164 non-null  int64  \n",
      " 1   Timestamp  291164 non-null  object \n",
      " 2   Longitude  291164 non-null  float64\n",
      " 3   Latitude   291164 non-null  float64\n",
      "dtypes: float64(2), int64(1), object(1)\n",
      "memory usage: 8.9+ MB\n",
      "None\n",
      "100\n"
     ]
    }
   ],
   "source": [
    "import pandas as pd\n",
    "import matplotlib.pyplot as plt\n",
    "\n",
    "df = pd.read_csv(\"filtered_100_taxis.csv\")\n",
    "print(df.info())\n",
    "print(df['TaxiID'].nunique())  # Should be 100"
   ]
  },
  {
   "cell_type": "markdown",
   "id": "a0910f73",
   "metadata": {},
   "source": [
    "create an interactive map visualizing geographic data"
   ]
  },
  {
   "cell_type": "code",
   "execution_count": 4,
   "id": "4e54758e",
   "metadata": {},
   "outputs": [
    {
     "name": "stdout",
     "output_type": "stream",
     "text": [
      "Collecting folium\n",
      "  Downloading folium-0.19.7-py2.py3-none-any.whl.metadata (4.1 kB)\n",
      "Collecting branca>=0.6.0 (from folium)\n",
      "  Downloading branca-0.8.1-py3-none-any.whl.metadata (1.5 kB)\n",
      "Requirement already satisfied: jinja2>=2.9 in /home/codespace/.local/lib/python3.12/site-packages (from folium) (3.1.6)\n",
      "Requirement already satisfied: numpy in /home/codespace/.local/lib/python3.12/site-packages (from folium) (2.2.4)\n",
      "Requirement already satisfied: requests in /home/codespace/.local/lib/python3.12/site-packages (from folium) (2.32.3)\n",
      "Collecting xyzservices (from folium)\n",
      "  Downloading xyzservices-2025.4.0-py3-none-any.whl.metadata (4.3 kB)\n",
      "Requirement already satisfied: MarkupSafe>=2.0 in /home/codespace/.local/lib/python3.12/site-packages (from jinja2>=2.9->folium) (3.0.2)\n",
      "Requirement already satisfied: charset-normalizer<4,>=2 in /home/codespace/.local/lib/python3.12/site-packages (from requests->folium) (3.4.1)\n",
      "Requirement already satisfied: idna<4,>=2.5 in /home/codespace/.local/lib/python3.12/site-packages (from requests->folium) (3.10)\n",
      "Requirement already satisfied: urllib3<3,>=1.21.1 in /home/codespace/.local/lib/python3.12/site-packages (from requests->folium) (2.3.0)\n",
      "Requirement already satisfied: certifi>=2017.4.17 in /home/codespace/.local/lib/python3.12/site-packages (from requests->folium) (2025.1.31)\n",
      "Downloading folium-0.19.7-py2.py3-none-any.whl (112 kB)\n",
      "Downloading branca-0.8.1-py3-none-any.whl (26 kB)\n",
      "Downloading xyzservices-2025.4.0-py3-none-any.whl (90 kB)\n",
      "Installing collected packages: xyzservices, branca, folium\n",
      "Successfully installed branca-0.8.1 folium-0.19.7 xyzservices-2025.4.0\n",
      "\n",
      "\u001b[1m[\u001b[0m\u001b[34;49mnotice\u001b[0m\u001b[1;39;49m]\u001b[0m\u001b[39;49m A new release of pip is available: \u001b[0m\u001b[31;49m25.0.1\u001b[0m\u001b[39;49m -> \u001b[0m\u001b[32;49m25.1.1\u001b[0m\n",
      "\u001b[1m[\u001b[0m\u001b[34;49mnotice\u001b[0m\u001b[1;39;49m]\u001b[0m\u001b[39;49m To update, run: \u001b[0m\u001b[32;49mpip install --upgrade pip\u001b[0m\n",
      "Note: you may need to restart the kernel to use updated packages.\n"
     ]
    }
   ],
   "source": [
    "pip install folium"
   ]
  },
  {
   "cell_type": "code",
   "execution_count": 7,
   "id": "8fc785fa",
   "metadata": {},
   "outputs": [],
   "source": [
    "import folium\n",
    "\n",
    "m = folium.Map(location=[df['Latitude'].mean(), df['Longitude'].mean()], zoom_start=12)\n",
    "for _, row in df.sample(500).iterrows():  # sample 500 points to avoid clutter\n",
    "    folium.CircleMarker(location=[row['Latitude'], row['Longitude']], radius=1).add_to(m)\n",
    "\n",
    "m.save(\"map.html\")"
   ]
  }
 ],
 "metadata": {
  "kernelspec": {
   "display_name": "Python 3",
   "language": "python",
   "name": "python3"
  },
  "language_info": {
   "codemirror_mode": {
    "name": "ipython",
    "version": 3
   },
   "file_extension": ".py",
   "mimetype": "text/x-python",
   "name": "python",
   "nbconvert_exporter": "python",
   "pygments_lexer": "ipython3",
   "version": "3.12.1"
  }
 },
 "nbformat": 4,
 "nbformat_minor": 5
}
